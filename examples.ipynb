{
 "cells": [
  {
   "cell_type": "markdown",
   "id": "b04b376e-d18d-4feb-8b1c-ae7db9051611",
   "metadata": {},
   "source": [
    "# Example usage"
   ]
  },
  {
   "cell_type": "markdown",
   "id": "a956f5bb-3fd8-4550-ae8b-db017bcfe1fb",
   "metadata": {},
   "source": [
    "## Using the ML5-D11 model"
   ]
  },
  {
   "cell_type": "code",
   "execution_count": 1,
   "id": "58d86f71-65fd-46e6-b5df-90d1457e472a",
   "metadata": {},
   "outputs": [],
   "source": [
    "# Model inputs\n",
    "temperature = [157]\n",
    "critical_volume = [118]\n",
    "critical_temperature = [512.6]\n",
    "density = [0.98232]\n",
    "acentric_factor=[0.556]"
   ]
  },
  {
   "cell_type": "code",
   "execution_count": 2,
   "id": "518b43c4-c22d-44e9-a129-958e0f4e7555",
   "metadata": {},
   "outputs": [
    {
     "name": "stdout",
     "output_type": "stream",
     "text": [
      "Predicted D11 (cm2/s): 7.43419561193265e-08\n"
     ]
    }
   ],
   "source": [
    "from ml_D11 import ML5_D11\n",
    "\n",
    "model=ML5_D11()\n",
    "\n",
    "D11=model.predict(temp=temperature, crit_vol=critical_volume, crit_temp=critical_temperature, dens=density, acent_fact=acentric_factor)\n",
    "print('Predicted D11 (cm2/s):', D11[0])"
   ]
  },
  {
   "cell_type": "markdown",
   "id": "fbf5a581-4dac-4fc9-9d82-9d68774557fb",
   "metadata": {},
   "source": [
    "**If you wish to do run multiple predictions at once:**"
   ]
  },
  {
   "cell_type": "code",
   "execution_count": 3,
   "id": "02186f36-46ca-4f05-b21a-4fc147f38c9c",
   "metadata": {},
   "outputs": [],
   "source": [
    "# Model inputs\n",
    "temperature = [112.25, 255, 333]\n",
    "critical_volume = [99.2, 148.3, 203]\n",
    "critical_temperature = [190.4, 305.4, 369.8]\n",
    "density = [0.4222, 0.57406, 0.78153]\n",
    "acentric_factor=[0.011, 0.099, 0.153]"
   ]
  },
  {
   "cell_type": "code",
   "execution_count": 4,
   "id": "3cd6e141-cdaa-4247-8b2a-e89272b7e2bc",
   "metadata": {},
   "outputs": [
    {
     "data": {
      "text/plain": [
       "array([4.70656590e-05, 7.19432487e-05, 4.82893147e-05])"
      ]
     },
     "execution_count": 4,
     "metadata": {},
     "output_type": "execute_result"
    }
   ],
   "source": [
    "from ml_D11 import ML5_D11\n",
    "\n",
    "model=ML5_D11()\n",
    "\n",
    "D11_pred = model.predict(temp=temperature, crit_vol=critical_volume, crit_temp=critical_temperature, dens=density, acent_fact=acentric_factor)\n",
    "\n",
    "D11_pred"
   ]
  },
  {
   "cell_type": "markdown",
   "id": "891a669a-a46e-499f-8020-e9d40f4fae4c",
   "metadata": {},
   "source": [
    "## Using the ML8-D11 model"
   ]
  },
  {
   "cell_type": "code",
   "execution_count": 5,
   "id": "d1e2f125-9c08-4a33-ad78-4b524a3911d3",
   "metadata": {},
   "outputs": [],
   "source": [
    "# Model inputs\n",
    "temperature = [112.25]\n",
    "critical_volume = [99.2]\n",
    "critical_temperature = [190.4]\n",
    "density = [0.4222]\n",
    "acentric_factor=[0.011]\n",
    "pressure=[8.61]\n",
    "smile=['C']\n"
   ]
  },
  {
   "cell_type": "code",
   "execution_count": 6,
   "id": "df24c50d-9d97-4149-ae67-afcf91fdafdf",
   "metadata": {},
   "outputs": [
    {
     "name": "stdout",
     "output_type": "stream",
     "text": [
      "Predicted D11 (cm2/s): 4.712342275695381e-05\n"
     ]
    }
   ],
   "source": [
    "from ml_D11 import ML8_D11\n",
    "\n",
    "model=ML8_D11()\n",
    "\n",
    "D11=model.predict(temp=temperature, crit_vol=critical_volume, crit_temp=critical_temperature, dens=density, acent_fact=acentric_factor,press=pressure, smiles=smile)\n",
    "print('Predicted D11 (cm2/s):', D11[0])"
   ]
  },
  {
   "cell_type": "markdown",
   "id": "b18a620a-153c-4694-8cae-8e234e6c3d3b",
   "metadata": {},
   "source": [
    "**If you wish to do run multiple predictions at once:**"
   ]
  },
  {
   "cell_type": "code",
   "execution_count": 7,
   "id": "4e35ba0f-1214-4fe2-88d3-2e8d1a1a54e2",
   "metadata": {},
   "outputs": [],
   "source": [
    "# Model inputs\n",
    "temperature = [112.25, 157]\n",
    "critical_volume = [99.2, 118]\n",
    "critical_temperature = [190.4, 512.6]\n",
    "density = [0.4222, 0.98232]\n",
    "acentric_factor=[0.011, 0.556]\n",
    "pressure=[8.61,1500]\n",
    "smile=['C','CO' ]\n"
   ]
  },
  {
   "cell_type": "code",
   "execution_count": 8,
   "id": "2688dbac-75d2-42ad-b2ce-49ed725e0225",
   "metadata": {},
   "outputs": [
    {
     "data": {
      "text/plain": [
       "array([4.71234228e-05, 7.96526745e-08])"
      ]
     },
     "execution_count": 8,
     "metadata": {},
     "output_type": "execute_result"
    }
   ],
   "source": [
    "from ml_D11 import ML8_D11\n",
    "\n",
    "model=ML8_D11()\n",
    "D11_pred = model.predict(temp=temperature, crit_vol=critical_volume, crit_temp=critical_temperature, dens=density, acent_fact=acentric_factor,press=pressure, smiles=smile)\n",
    "D11_pred"
   ]
  },
  {
   "cell_type": "code",
   "execution_count": null,
   "id": "f5ce340b-b8bb-4398-af92-9af6bc219cb4",
   "metadata": {},
   "outputs": [],
   "source": []
  }
 ],
 "metadata": {
  "kernelspec": {
   "display_name": "Python 3 (ipykernel)",
   "language": "python",
   "name": "python3"
  },
  "language_info": {
   "codemirror_mode": {
    "name": "ipython",
    "version": 3
   },
   "file_extension": ".py",
   "mimetype": "text/x-python",
   "name": "python",
   "nbconvert_exporter": "python",
   "pygments_lexer": "ipython3",
   "version": "3.9.12"
  }
 },
 "nbformat": 4,
 "nbformat_minor": 5
}
